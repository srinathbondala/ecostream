{
 "cells": [
  {
   "cell_type": "code",
   "execution_count": null,
   "metadata": {
    "collapsed": true
   },
   "outputs": [],
   "source": [
    "import pandas as pd\n",
    "import warnings"
   ]
  },
  {
   "cell_type": "code",
   "execution_count": null,
   "metadata": {
    "collapsed": true
   },
   "outputs": [],
   "source": [
    "pd.set_option('display.max_colwidth', 0)\n",
    "pd.set_option('display.max_columns', None)\n",
    "pd.options.display.max_seq_items = 2000\n",
    "warnings.filterwarnings('ignore')"
   ]
  },
  {
   "cell_type": "code",
   "execution_count": null,
   "metadata": {},
   "outputs": [],
   "source": [
    "%%html\n",
    "<style>\n",
    ".dataframe td {\n",
    "    white-space: nowrap;\n",
    "}\n",
    "</style>"
   ]
  },
  {
   "cell_type": "markdown",
   "metadata": {},
   "source": [
    "### Initial Datasets Import\n",
    "#### Import Shipped Order Lines"
   ]
  },
  {
   "cell_type": "code",
   "execution_count": null,
   "metadata": {},
   "outputs": [],
   "source": [
    "df_lines = pd.read_csv('Data/order_lines.csv', index_col = 0)\n",
    "print(\"{:,} order lines to process\".format(len(df_lines)))\n",
    "df_lines.head()"
   ]
  },
  {
   "cell_type": "markdown",
   "metadata": {},
   "source": [
    "#### Import Master Data: Unit of Measure Conversions to (kg)"
   ]
  },
  {
   "cell_type": "code",
   "execution_count": null,
   "metadata": {},
   "outputs": [],
   "source": [
    "df_uom = pd.read_csv('Data/uom_conversions.csv', index_col = 0)\n",
    "print(\"{:,} Unit of Measure Conversions\".format(len(df_uom)))\n",
    "\n",
    "# Join\n",
    "df_join = df_lines.copy()\n",
    "COLS_JOIN = ['Item Code']\n",
    "df_join = pd.merge(df_join, df_uom, on=COLS_JOIN, how='left', suffixes=('', '_y'))\n",
    "df_join.drop(df_join.filter(regex='_y$').columns.tolist(),axis=1, inplace=True)\n",
    "print(\"{:,} records\".format(len(df_join)))\n",
    "df_join.head()"
   ]
  },
  {
   "cell_type": "markdown",
   "metadata": {},
   "source": [
    "#### Import Distances"
   ]
  },
  {
   "cell_type": "code",
   "execution_count": null,
   "metadata": {},
   "outputs": [],
   "source": [
    "df_dist = pd.read_csv('Data/' + 'distances1.csv', index_col = 0)\n",
    "# Location\n",
    "df_dist['Location'] = df_dist['Customer Country'].astype(str) + ', ' + df_dist['Customer City'].astype(str)\n",
    "df_dist.head()"
   ]
  },
  {
   "cell_type": "markdown",
   "metadata": {},
   "source": [
    "#### Import Cities GPS Locations"
   ]
  },
  {
   "cell_type": "code",
   "execution_count": null,
   "metadata": {},
   "outputs": [],
   "source": [
    "df_gps = pd.read_csv('Data/' + 'gps_locations.csv', index_col = 0)\n",
    "print(\"{:,} Locations\".format(len(df_gps)))\n",
    "df_gps.head()"
   ]
  },
  {
   "cell_type": "markdown",
   "metadata": {},
   "source": [
    "### Data Processing\n",
    "#### Merge Distance with GPS Locations"
   ]
  },
  {
   "cell_type": "code",
   "execution_count": null,
   "metadata": {},
   "outputs": [],
   "source": [
    "df_dist = pd.merge(df_dist, df_gps, on='Location', how='left', suffixes=('', '_y'))\n",
    "df_dist.drop(df_dist.filter(regex='_y$').columns.tolist(),axis=1, inplace=True)\n",
    "df_dist"
   ]
  },
  {
   "cell_type": "markdown",
   "metadata": {},
   "source": [
    "#### Final Join to build records"
   ]
  },
  {
   "cell_type": "code",
   "execution_count": null,
   "metadata": {},
   "outputs": [],
   "source": [
    "COLS_JOIN = ['Warehouse Code', 'Customer Code']\n",
    "print(\"Columns in df_join:\", df_join.columns)\n",
    "print(\"Columns in df_dist:\", df_dist.columns)\n",
    "df_join = pd.merge(df_join, df_dist, on = COLS_JOIN, how='left', suffixes=('', '_y'))\n",
    "df_join.drop(df_join.filter(regex='_y$').columns.tolist(),axis=1, inplace=True)\n",
    "print(\"{:,} records\".format(len(df_join)))\n",
    "df_join"
   ]
  },
  {
   "cell_type": "markdown",
   "metadata": {},
   "source": [
    "### Calculation at order level"
   ]
  },
  {
   "cell_type": "code",
   "execution_count": null,
   "metadata": {},
   "outputs": [],
   "source": [
    "# Calculate Weight (KG)\n",
    "df_join['KG'] = df_join['Units'] * df_join['Conversion Ratio']\n",
    "\n",
    "# Agg by order\n",
    "GPBY_ORDER = ['Date', 'Month-Year', \n",
    "        'Warehouse Code', 'Warehouse Name', 'Warehouse Country', 'Warehouse City',\n",
    "        'Customer Code', 'Customer Country', 'Customer City','Location', 'GPS 1', 'GPS 2', \n",
    "        'Road', 'Rail', 'Sea', 'Air',\n",
    "        'Order Number']\n",
    "df_agg = pd.DataFrame(df_join.groupby(GPBY_ORDER)[['Units', 'KG']].sum())\n",
    "df_agg.reset_index(inplace = True)\n",
    "df_agg.head()"
   ]
  },
  {
   "cell_type": "markdown",
   "metadata": {},
   "source": [
    "#### Calculate CO2 = f(KG, Ratios)"
   ]
  },
  {
   "cell_type": "code",
   "execution_count": null,
   "metadata": {},
   "outputs": [],
   "source": [
    "# CO2 Emissions\n",
    "dict_co2e = dict(zip(['Air' ,'Sea', 'Road', 'Rail'], [2.1, 0.01, 0.096, 0.028]))\n",
    "MODES = ['Road', 'Rail','Sea', 'Air']\n",
    "for mode in MODES:\n",
    "    df_agg['CO2 ' + mode] = df_agg['KG'].astype(float)/1000 * df_agg[mode].astype(float) * dict_co2e[mode]\n",
    "df_agg['CO2 Total'] = df_agg[['CO2 ' + mode for mode in MODES]].sum(axis = 1)\n",
    "df_agg.head()"
   ]
  },
  {
   "cell_type": "markdown",
   "metadata": {},
   "source": [
    "### Calculation at order line level"
   ]
  },
  {
   "cell_type": "code",
   "execution_count": null,
   "metadata": {},
   "outputs": [],
   "source": [
    "# Calculation @ line level\n",
    "df_line = df_join.copy()\n",
    "dict_co2e = dict(zip(['Air' ,'Sea', 'Road', 'Rail'], [2.1, 0.01, 0.096, 0.028]))\n",
    "MODES = ['Road', 'Rail','Sea', 'Air']\n",
    "for mode in MODES:\n",
    "    df_line['CO2 ' + mode] = df_line['KG'].astype(float)/1000 * df_line[mode].astype(float) * dict_co2e[mode]    \n",
    "df_line['CO2 Total'] = df_line[['CO2 ' + mode for mode in MODES]].sum(axis = 1)\n",
    "df_line.to_csv('Data/detailed_report.csv')\n",
    "df_line.head()"
   ]
  },
  {
   "cell_type": "markdown",
   "metadata": {},
   "source": [
    "#### Final mapping for visualization"
   ]
  },
  {
   "cell_type": "code",
   "execution_count": null,
   "metadata": {},
   "outputs": [],
   "source": [
    "# Mapping the delivery Mode\n",
    "def find_best_mode(row):\n",
    "    product_values = [row[mode] * row[f'CO2 {mode}'] for mode in MODES]\n",
    "    min_product = min(product_values)\n",
    "    if min_product > 0:\n",
    "        best_mode_index = product_values.index(min_product)\n",
    "        return MODES[best_mode_index]\n",
    "    else:\n",
    "        return '-'\n",
    "\n",
    "df_agg['Best Mode'] = df_agg.apply(find_best_mode, axis=1)\n",
    "\n",
    "df_agg['Delivery Mode'] = df_agg[MODES].astype(float).apply(\n",
    "    lambda t: [mode if t[mode]>0 else '-' for mode in MODES], axis = 1)\n",
    "dict_map = dict(zip(df_agg['Delivery Mode'].astype(str).unique(), \n",
    "  [i.replace(\", '-'\",'').replace(\"'-'\",'').replace(\"'\",'') for i in df_agg['Delivery Mode'].astype(str).unique()]))\n",
    "df_agg['Delivery Mode'] = df_agg['Delivery Mode'].astype(str).map(dict_map)\n",
    "\n",
    "df_agg"
   ]
  },
  {
   "cell_type": "code",
   "execution_count": null,
   "metadata": {
    "collapsed": true
   },
   "outputs": [],
   "source": [
    "# Save Final Report\n",
    "df_agg.to_csv('Data/final_report.csv')"
   ]
  }
 ],
 "metadata": {
  "kernelspec": {
   "display_name": "Python 3",
   "language": "python",
   "name": "python3"
  },
  "language_info": {
   "codemirror_mode": {
    "name": "ipython",
    "version": 3
   },
   "file_extension": ".py",
   "mimetype": "text/x-python",
   "name": "python",
   "nbconvert_exporter": "python",
   "pygments_lexer": "ipython3",
   "version": "3.12.2"
  }
 },
 "nbformat": 4,
 "nbformat_minor": 2
}
